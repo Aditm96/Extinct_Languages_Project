{
 "cells": [
  {
   "cell_type": "code",
   "execution_count": null,
   "metadata": {},
   "outputs": [],
   "source": [
    "import pandas as pd\n",
    "import numpy as np\n",
    "import matplotlib.pyplot as plt"
   ]
  },
  {
   "cell_type": "code",
   "execution_count": null,
   "metadata": {},
   "outputs": [],
   "source": [
    "file = 'Datasets/data.csv'\n",
    "file_df = pd.read_csv(file)\n",
    "File_df = pd.DataFrame(file_df)\n",
    "File_df['Countries'].value_counts().head(25)\n",
    "America = File_df.loc[(File_df['Countries'] == 'United States of America') |\n",
    "                      (File_df['Countries'] == 'Mexico') |\n",
    "                      (File_df['Countries'] == 'Canada') |\n",
    "                      (File_df[\"Countries\"] == 'Canada, United States of America'),:]\n",
    "America.head(10)"
   ]
  },
  {
   "cell_type": "code",
   "execution_count": null,
   "metadata": {},
   "outputs": [],
   "source": [
    "File_DF = America.iloc[:, [0, 1, 4, 7, 10, 12, 13, 14]]\n",
    "Population_Dict = {'Mexico':126200000, 'Canada':36740000, 'United States of America':325000000, 'Canada, United States of America':361740000}\n",
    "File_DF['Population'] = File_DF['Countries'].map(Population_Dict)\n",
    "File_DF['Speaker Percentage'] = (File_DF['Number of speakers'] / File_DF['Population'])*100\n",
    "File_DF[\"Speaker Percentage\"] = File_DF[\"Speaker Percentage\"].map(\"{:,.2f}%\".format)\n",
    "File_DF = File_DF[['ID', 'Name in English', 'Countries', \n",
    "                   'Number of speakers', 'Population', 'Speaker Percentage',\n",
    "                  'Latitude', 'Longitude', 'Degree of endangerment', 'Description of the location']]\n",
    "File_DF.set_index('ID', inplace=True)\n",
    "File_DF.head(15)"
   ]
  },
  {
   "cell_type": "code",
   "execution_count": null,
   "metadata": {},
   "outputs": [],
   "source": [
    "def color_code(number):\n",
    "    if (0.7 < number) & (number < 1):\n",
    "        color = 'darkblue'\n",
    "    elif (number < -0.7):\n",
    "        color = 'red'\n",
    "    elif (number > 0) & (number < 0.7):\n",
    "        color = 'purple'\n",
    "    elif (number < 0):\n",
    "        color = 'lightcoral'\n",
    "    else:\n",
    "        color = 'black'\n",
    "    return 'color: %s' % color"
   ]
  },
  {
   "cell_type": "code",
   "execution_count": null,
   "metadata": {},
   "outputs": [],
   "source": [
    "#Creating New Columns based on Degree of Endangerment\n",
    "#Vulnerable\n",
    "Vulnerable_DF = pd.DataFrame(File_DF.loc[(File_DF['Degree of endangerment'] == 'Vulnerable'), :]) \n",
    "Vulnerable_DF = pd.DataFrame(Vulnerable_DF.groupby(['Countries']).count()['Population'])\n",
    "Vulnerable_DF = Vulnerable_DF.rename(columns = {'Population':'Vulnerable'})\n",
    "#Definitely Endangered \n",
    "Definitely_Endangered_DF = pd.DataFrame(File_DF.loc[(File_DF['Degree of endangerment'] == 'Definitely endangered'), :])\n",
    "Definitely_Endangered_DF = pd.DataFrame(Definitely_Endangered_DF.groupby(['Countries']).count()['Population'])\n",
    "Definitely_Endangered_DF = Definitely_Endangered_DF.rename(columns = {'Population':'Definitely endangered'})\n",
    "#Critically Endangered\n",
    "Critically_Endangered_DF = pd.DataFrame(File_DF.loc[(File_DF['Degree of endangerment'] == 'Critically endangered'), :]) \n",
    "Critically_Endangered_DF = pd.DataFrame(Critically_Endangered_DF.groupby(['Countries']).count()['Population'])\n",
    "Critically_Endangered_DF = Critically_Endangered_DF.rename(columns = {'Population':'Critically Endangered'})\n",
    "Critically_Endangered_DF\n",
    "#Severly Endangered\n",
    "Severely_Endangered_DF = pd.DataFrame(File_DF.loc[(File_DF['Degree of endangerment'] == 'Severely endangered'), :]) \n",
    "Severely_Endangered_DF = pd.DataFrame(Severely_Endangered_DF.groupby(['Countries']).count()['Population'])\n",
    "Severely_Endangered_DF = Severely_Endangered_DF.rename(columns = {'Population':'Severely Endangered'})\n",
    "Severely_Endangered_DF\n",
    "#Merging Tables\n",
    "merge_1 = pd.merge(Vulnerable_DF, Definitely_Endangered_DF, on='Countries')\n",
    "merge_2 = pd.merge(Critically_Endangered_DF, Severely_Endangered_DF, on='Countries')\n",
    "Merge_DF = pd.merge(merge_1, merge_2, on='Countries')"
   ]
  },
  {
   "cell_type": "code",
   "execution_count": null,
   "metadata": {},
   "outputs": [],
   "source": [
    "#Create New Columns \n",
    "Corr_DF = pd.DataFrame(File_DF.groupby(['Countries']).count())\n",
    "Corr_DF['Vulnerable'] = Vulnerable_DF\n",
    "Corr_DF[\"Definitely Endangered\"] = Definitely_Endangered_DF\n",
    "Corr_DF[\"Critically Endangered\"] = Critically_Endangered_DF\n",
    "Corr_DF[\"Severely Endangered\"] = Severely_Endangered_DF\n",
    "Corr_DF = Corr_DF[['Vulnerable', 'Definitely Endangered', 'Critically Endangered', 'Severely Endangered', 'Number of speakers','Speaker Percentage']]\n",
    "#Correlation between degrees of endangerment\n",
    "Correlation_DF = round(Corr_DF.corr(), 2)\n",
    "Correlation_DF = pd.DataFrame(Correlation_DF[['Number of speakers','Speaker Percentage']])\n",
    "Correlation_DF.drop(Correlation_DF.tail(1).index,inplace=True)\n",
    "Corr_df = Correlation_DF.style.applymap(color_code)\n",
    "Corr_df"
   ]
  },
  {
   "cell_type": "code",
   "execution_count": null,
   "metadata": {},
   "outputs": [],
   "source": [
    "#Create New Columns\n",
    "America = File_DF[(File_DF['Countries'] == \"United States of America\")]\n",
    "Canada = File_DF[(File_DF['Countries'] == 'Canada')]\n",
    "Mexico = File_DF[(File_DF['Countries'] == 'Mexico')]\n",
    "Canada_America = File_DF[(File_DF['Degree of endangerment'] == 'Canada, United States of America')]\n",
    "#Group By Degree of Endangerment\n",
    "America = America.groupby(['Degree of endangerment']).count()['Population']\n",
    "Canada = Canada.groupby(['Degree of endangerment']).count()['Population']\n",
    "Mexico = Mexico.groupby(['Degree of endangerment']).count()['Population']\n",
    "Canada_America = Canada_America.groupby(['Degree of endangerment']).count()['Population']\n",
    "#Create New Columns \n",
    "Country_DF = pd.DataFrame(File_DF.groupby(['Degree of endangerment']).count())\n",
    "Country_DF['America'] = America\n",
    "Country_DF[\"Canada\"] = Canada\n",
    "Country_DF[\"Mexico\"] = Mexico\n",
    "Country_DF[\"Canada_America\"] = Canada_America\n",
    "Country_DF = Country_DF.drop('Extinct')\n",
    "Country_DF = Country_DF[['America', 'Canada', 'Mexico']]\n",
    "# Correlaion Between Countries\n",
    "Country_DF = round(Country_DF.corr(), 2)\n",
    "Country_df = Country_DF.style.applymap(color_code)\n",
    "Country_df"
   ]
  },
  {
   "cell_type": "code",
   "execution_count": null,
   "metadata": {},
   "outputs": [],
   "source": [
    "#Create a Bar Plot of all four endangerment levels\n",
    "Merge_DF.plot(kind='bar', figsize=(12, 6), title = \"Countries Endangerment Level Comparison\", rot=0)\n",
    "plt.xlabel('Country')\n",
    "plt.ylabel('Count')"
   ]
  },
  {
   "cell_type": "code",
   "execution_count": null,
   "metadata": {},
   "outputs": [],
   "source": [
    "#Correlation between Mexico and United States: Vulnerable vs. Critically Endangered\n",
    "Final_Correlation = Merge_DF[['Vulnerable', 'Critically Endangered']]\n",
    "Final_Correlation.drop('Canada')\n",
    "Final_Correlation = round(Final_Correlation.corr(), 2)\n",
    "Final_Correlation = Final_Correlation.style.applymap(color_code)\n",
    "Final_Correlation"
   ]
  },
  {
   "cell_type": "code",
   "execution_count": null,
   "metadata": {},
   "outputs": [],
   "source": [
    "Degree = pd.DataFrame(File_DF.groupby(['Countries', 'Degree of endangerment']).count()['ID'])\n",
    "degree = Degree.iloc[8:12]\n",
    "degree.plot(kind='pie', subplots='True')"
   ]
  },
  {
   "cell_type": "code",
   "execution_count": null,
   "metadata": {},
   "outputs": [],
   "source": [
    "Degree"
   ]
  },
  {
   "cell_type": "code",
   "execution_count": null,
   "metadata": {},
   "outputs": [],
   "source": [
    "df2 = pd.DataFrame({\n",
    "    'Degree': ['Vulnerable', 'Definetly endangered', 'Critically endangered', 'Severly endangered', 'Extinct']})\n",
    "df = pd.merge(df, df2, on='day')\n",
    "df = df.sort_values('num')\n",
    "dfx = df.groupby(['group'])\n",
    "dfx.plot(kind='bar', x='day')"
   ]
  },
  {
   "cell_type": "code",
   "execution_count": null,
   "metadata": {},
   "outputs": [],
   "source": [
    "File_df.head(25)"
   ]
  }
 ],
 "metadata": {
  "kernelspec": {
   "display_name": "Python 3",
   "language": "python",
   "name": "python3"
  },
  "language_info": {
   "codemirror_mode": {
    "name": "ipython",
    "version": 3
   },
   "file_extension": ".py",
   "mimetype": "text/x-python",
   "name": "python",
   "nbconvert_exporter": "python",
   "pygments_lexer": "ipython3",
   "version": "3.7.4"
  }
 },
 "nbformat": 4,
 "nbformat_minor": 2
}
